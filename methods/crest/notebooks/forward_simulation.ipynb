{
 "cells": [
  {
   "cell_type": "code",
   "execution_count": null,
   "id": "6359542d-a2bb-48da-b9cc-edea35012fb0",
   "metadata": {},
   "outputs": [],
   "source": [
    "import sys\n",
    "import pandas as pd\n",
    "import numpy as np\n",
    "import torch\n",
    "import pytorch_lightning as pl\n",
    "import torch.utils.data as data\n",
    "\n",
    "from transformers import AutoModel, AutoTokenizer\n",
    "\n",
    "sys.path.append('../scripts/')\n",
    "from forward_simulation import BowStudent, BowRationaleDataset\n",
    "from forward_simulation import BowNLIStudent, BowNLIRationaleDataset\n",
    "from forward_simulation import collate_fn"
   ]
  },
  {
   "cell_type": "code",
   "execution_count": null,
   "id": "3bdf4bb7-20f5-481e-ae81-655ddaaeb9ba",
   "metadata": {},
   "outputs": [],
   "source": [
    "t5_tokenizer = AutoTokenizer.from_pretrained('t5-small')\n",
    "trainer = pl.Trainer(accelerator='cpu', enable_progress_bar=False)"
   ]
  },
  {
   "cell_type": "code",
   "execution_count": null,
   "id": "376acf90-07f6-407a-8a91-4feda9ac608e",
   "metadata": {},
   "outputs": [],
   "source": [
    "def compute_simulability(fname, dataset_cls, student_model):\n",
    "    ds = dataset_cls(fname, t5_tokenizer)\n",
    "    dl = data.DataLoader(ds, batch_size=16, collate_fn=collate_fn, shuffle=False) \n",
    "    outputs = trainer.predict(student_model, dl)\n",
    "    stacked_outputs = {k: [x[k] for x in outputs] for k in outputs[0].keys()}\n",
    "    gold = torch.cat(stacked_outputs['gold'])\n",
    "    pred = torch.cat(stacked_outputs['pred'])\n",
    "    sim = torch.mean((gold == pred).float()).item()\n",
    "    return sim"
   ]
  },
  {
   "cell_type": "markdown",
   "id": "c6994f40-2e38-4d70-9651-d39fcec8ae1a",
   "metadata": {},
   "source": [
    "---\n",
    "\n",
    "### IMDB"
   ]
  },
  {
   "cell_type": "code",
   "execution_count": null,
   "id": "bb5b944d-2d8b-4b57-a9b1-8afeaf7ecb6b",
   "metadata": {},
   "outputs": [],
   "source": [
    "imdb_student = BowStudent.load_from_checkpoint(\"../lightning_logs/version_2/checkpoints/epoch=4-step=140.ckpt\").eval()"
   ]
  },
  {
   "cell_type": "code",
   "execution_count": null,
   "id": "f69ccf34-6285-4ca0-8e0b-31aa527f8bde",
   "metadata": {},
   "outputs": [],
   "source": [
    "compute_simulability(\n",
    "    fname='../data/edits/revised_imdb_test_beam_15_sparsemap_30p.tsv',\n",
    "    dataset_cls=BowRationaleDataset,\n",
    "    student_model=imdb_student\n",
    ")"
   ]
  },
  {
   "cell_type": "markdown",
   "id": "1f7f5945-0695-43e8-a3dd-9805ebc5db33",
   "metadata": {},
   "source": [
    "---\n",
    "\n",
    "### SNLI"
   ]
  },
  {
   "cell_type": "code",
   "execution_count": null,
   "id": "3d2b8656-5ea9-4c33-a986-07ad14f98e78",
   "metadata": {},
   "outputs": [],
   "source": [
    "snli_student = BowStudent.load_from_checkpoint(\"../lightning_logs/version_2/checkpoints/epoch=4-step=140.ckpt\").eval()"
   ]
  },
  {
   "cell_type": "code",
   "execution_count": null,
   "id": "cd502335-5142-4ec3-9855-d658bb2a4abd",
   "metadata": {},
   "outputs": [],
   "source": [
    "compute_simulability(\n",
    "    fname='../data/edits/revised_snli_test_beam_15_sparsemap_30p.tsv',\n",
    "    dataset_cls=BowNLIRationaleDataset,\n",
    "    student_model=snli_student\n",
    ")"
   ]
  }
 ],
 "metadata": {
  "kernelspec": {
   "display_name": "Python 3 (ipykernel)",
   "language": "python",
   "name": "python3"
  },
  "language_info": {
   "codemirror_mode": {
    "name": "ipython",
    "version": 3
   },
   "file_extension": ".py",
   "mimetype": "text/x-python",
   "name": "python",
   "nbconvert_exporter": "python",
   "pygments_lexer": "ipython3",
   "version": "3.8.10"
  }
 },
 "nbformat": 4,
 "nbformat_minor": 5
}
